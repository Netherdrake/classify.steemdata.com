{
 "cells": [
  {
   "cell_type": "code",
   "execution_count": 1,
   "metadata": {
    "collapsed": true
   },
   "outputs": [],
   "source": [
    "import boto3"
   ]
  },
  {
   "cell_type": "code",
   "execution_count": 2,
   "metadata": {
    "collapsed": true
   },
   "outputs": [],
   "source": [
    "from easydict import EasyDict as ed\n",
    "\n",
    "config = ed(\n",
    "    region_name = 'us-west-2',\n",
    "    s3_bucket_name = 'steem-hackaton-input'\n",
    ")"
   ]
  },
  {
   "cell_type": "markdown",
   "metadata": {},
   "source": [
    "## Create an S3 Bucket"
   ]
  },
  {
   "cell_type": "code",
   "execution_count": 11,
   "metadata": {
    "collapsed": true
   },
   "outputs": [],
   "source": [
    "s3 = boto3.client('s3', region_name=config.region_name)"
   ]
  },
  {
   "cell_type": "code",
   "execution_count": 12,
   "metadata": {},
   "outputs": [],
   "source": [
    "from funcy import where, first\n",
    "exists = first(where(s3.list_buckets()['Buckets'], Name=config['s3_bucket_name']))\n",
    "if not exists:\n",
    "    response = s3.create_bucket(\n",
    "        ACL='public-read',\n",
    "        Bucket=config.s3_bucket_name,\n",
    "        CreateBucketConfiguration={\n",
    "            'LocationConstraint': config.region_name,\n",
    "        },\n",
    "    )\n",
    "    assert response['HTTPStatusCode'] == 200"
   ]
  },
  {
   "cell_type": "code",
   "execution_count": null,
   "metadata": {
    "collapsed": true
   },
   "outputs": [],
   "source": []
  },
  {
   "cell_type": "markdown",
   "metadata": {},
   "source": [
    "## Upload to S3"
   ]
  },
  {
   "cell_type": "code",
   "execution_count": 33,
   "metadata": {
    "collapsed": true
   },
   "outputs": [],
   "source": [
    "import pathlib\n",
    "\n",
    "filename = 'amy.png'\n",
    "input_file = pathlib.Path.home() / 'Downloads' / filename\n",
    "\n",
    "result = s3.upload_file(\n",
    "    Filename=str(input_file), \n",
    "    Bucket=config.s3_bucket_name, \n",
    "    Key=f'{filename}',\n",
    ")"
   ]
  },
  {
   "cell_type": "code",
   "execution_count": null,
   "metadata": {
    "collapsed": true
   },
   "outputs": [],
   "source": []
  },
  {
   "cell_type": "markdown",
   "metadata": {},
   "source": [
    "## Rekognition API"
   ]
  },
  {
   "cell_type": "code",
   "execution_count": 3,
   "metadata": {
    "collapsed": true,
    "scrolled": true
   },
   "outputs": [],
   "source": [
    "rkg = boto3.client('rekognition', region_name=config.region_name)"
   ]
  },
  {
   "cell_type": "code",
   "execution_count": 4,
   "metadata": {},
   "outputs": [
    {
     "data": {
      "text/plain": [
       "[{'Confidence': 50.02201843261719,\n",
       "  'Name': 'Explicit Nudity',\n",
       "  'ParentName': ''},\n",
       " {'Confidence': 50.02201843261719,\n",
       "  'Name': 'Nudity',\n",
       "  'ParentName': 'Explicit Nudity'}]"
      ]
     },
     "execution_count": 4,
     "metadata": {},
     "output_type": "execute_result"
    }
   ],
   "source": [
    "## NSFW\n",
    "response = rkg.detect_moderation_labels(\n",
    "    Image={\n",
    "        'S3Object': {\n",
    "            'Bucket': config.s3_bucket_name,\n",
    "            'Name': 'amy.png',\n",
    "        }\n",
    "    },\n",
    ")\n",
    "response['ModerationLabels']"
   ]
  },
  {
   "cell_type": "code",
   "execution_count": 5,
   "metadata": {
    "scrolled": true
   },
   "outputs": [
    {
     "data": {
      "text/plain": [
       "{'CelebrityFaces': [],\n",
       " 'OrientationCorrection': 'ROTATE_0',\n",
       " 'ResponseMetadata': {'HTTPHeaders': {'connection': 'keep-alive',\n",
       "   'content-length': '729',\n",
       "   'content-type': 'application/x-amz-json-1.1',\n",
       "   'date': 'Wed, 01 Nov 2017 18:43:44 GMT',\n",
       "   'x-amzn-requestid': '95e4969f-bf34-11e7-b076-475a8b9a6c2d'},\n",
       "  'HTTPStatusCode': 200,\n",
       "  'RequestId': '95e4969f-bf34-11e7-b076-475a8b9a6c2d',\n",
       "  'RetryAttempts': 0},\n",
       " 'UnrecognizedFaces': [{'BoundingBox': {'Height': 0.390625,\n",
       "    'Left': 0.4735576808452606,\n",
       "    'Top': 0.24519230425357819,\n",
       "    'Width': 0.38942307233810425},\n",
       "   'Confidence': 99.87974548339844,\n",
       "   'Landmarks': [{'Type': 'eyeLeft',\n",
       "     'X': 0.6886886954307556,\n",
       "     'Y': 0.40068140625953674},\n",
       "    {'Type': 'eyeRight', 'X': 0.7786025404930115, 'Y': 0.5228366851806641},\n",
       "    {'Type': 'nose', 'X': 0.6861751675605774, 'Y': 0.5471510291099548},\n",
       "    {'Type': 'mouthLeft', 'X': 0.5608097314834595, 'Y': 0.5201963186264038},\n",
       "    {'Type': 'mouthRight', 'X': 0.6328566670417786, 'Y': 0.6108995676040649}],\n",
       "   'Pose': {'Pitch': -3.8488380908966064,\n",
       "    'Roll': 53.222869873046875,\n",
       "    'Yaw': 18.989513397216797},\n",
       "   'Quality': {'Brightness': 40.28938674926758,\n",
       "    'Sharpness': 99.98487854003906}}]}"
      ]
     },
     "execution_count": 5,
     "metadata": {},
     "output_type": "execute_result"
    }
   ],
   "source": [
    "# CELEBRITIES\n",
    "response = rkg.recognize_celebrities(\n",
    "    Image={\n",
    "        'S3Object': {\n",
    "            'Bucket': config.s3_bucket_name,\n",
    "            'Name': 'amy.png',\n",
    "        }\n",
    "    },\n",
    ")\n",
    "response"
   ]
  },
  {
   "cell_type": "code",
   "execution_count": null,
   "metadata": {
    "collapsed": true
   },
   "outputs": [],
   "source": [
    "# rkg.get_celebrity_info(Id='string:celebrity_id_form_prev_request')"
   ]
  },
  {
   "cell_type": "code",
   "execution_count": 9,
   "metadata": {},
   "outputs": [
    {
     "data": {
      "text/plain": [
       "[{'Confidence': 99.1627197265625, 'Name': 'People'},\n",
       " {'Confidence': 99.16273498535156, 'Name': 'Person'},\n",
       " {'Confidence': 99.1453857421875, 'Name': 'Human'}]"
      ]
     },
     "execution_count": 9,
     "metadata": {},
     "output_type": "execute_result"
    }
   ],
   "source": [
    "response = rkg.detect_labels(\n",
    "    Image={\n",
    "        'S3Object': {\n",
    "            'Bucket': config.s3_bucket_name,\n",
    "            'Name': 'amy.png',\n",
    "        }\n",
    "    },\n",
    "    MaxLabels=100,\n",
    "    MinConfidence=80,\n",
    ")\n",
    "response['Labels']"
   ]
  },
  {
   "cell_type": "code",
   "execution_count": null,
   "metadata": {
    "collapsed": true
   },
   "outputs": [],
   "source": []
  }
 ],
 "metadata": {
  "kernelspec": {
   "display_name": "Python 3",
   "language": "python",
   "name": "python3"
  },
  "language_info": {
   "codemirror_mode": {
    "name": "ipython",
    "version": 3
   },
   "file_extension": ".py",
   "mimetype": "text/x-python",
   "name": "python",
   "nbconvert_exporter": "python",
   "pygments_lexer": "ipython3",
   "version": "3.6.3"
  }
 },
 "nbformat": 4,
 "nbformat_minor": 2
}
